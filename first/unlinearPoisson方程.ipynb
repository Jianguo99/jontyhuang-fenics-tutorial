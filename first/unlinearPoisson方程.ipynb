{
 "cells": [
  {
   "cell_type": "code",
   "execution_count": 3,
   "id": "unavailable-catalyst",
   "metadata": {},
   "outputs": [
    {
     "name": "stdout",
     "output_type": "stream",
     "text": [
      " u= x[0] + 2*x[1] + 1\n",
      "f= -10*x[0] - 20*x[1] - 10\n"
     ]
    }
   ],
   "source": [
    "from fenics import *\n",
    "def q(u):\n",
    "    return 1 + u**2\n",
    "import sympy as sym\n",
    "x,y = sym.symbols('x[0],x[1]')\n",
    "u = 1 + x+ 2*y\n",
    "f = - sym.diff(q(u) *sym.diff( u , x ) , x ) - sym.diff(q(u ) *sym.diff( u , y ) , y )\n",
    "f = sym.simplify( f )\n",
    "u_code = sym.printing.ccode( u )\n",
    "f_code = sym.printing.ccode( f )\n",
    "print(' u=', u_code )\n",
    "print( 'f='  , f_code )"
   ]
  },
  {
   "cell_type": "code",
   "execution_count": 9,
   "id": "noble-electricity",
   "metadata": {},
   "outputs": [
    {
     "name": "stdout",
     "output_type": "stream",
     "text": [
      "    Calling FFC just-in-time (JIT) compiler, this may take some time.\n",
      "    Calling FFC just-in-time (JIT) compiler, this may take some time.\n"
     ]
    }
   ],
   "source": [
    "nx= ny=8\n",
    "mesh = UnitSquareMesh(nx,ny)  # 在单位域进行网格划分\n",
    "V = FunctionSpace(mesh,'P',1)\n",
    "u_D = Expression(u_code,degree=1)\n",
    "def boundary ( x , on_boundary ) :\n",
    "     return on_boundary\n",
    "bc = DirichletBC(V, u_D, boundary )\n",
    "\n",
    "u = Function(V)\n",
    "v = TestFunction(V)\n",
    "f = Expression(f_code,degree=1)\n",
    "F = q(u)*dot(grad(u),grad(v))*dx - f*v*dx\n",
    "\n",
    "solve(F==0,u,bc)"
   ]
  },
  {
   "cell_type": "code",
   "execution_count": 11,
   "id": "interstate-shower",
   "metadata": {},
   "outputs": [
    {
     "name": "stdout",
     "output_type": "stream",
     "text": [
      "u = x[0] + 2*x[1] + 1\n",
      "f = -10*x[0] - 20*x[1] - 10\n",
      "error_max =  0.0\n"
     ]
    },
    {
     "data": {
      "image/png": "[encoded data removed]",
      "text/plain": [
       "<Figure size 432x288 with 1 Axes>"
      ]
     },
     "metadata": {
      "needs_background": "light"
     },
     "output_type": "display_data"
    }
   ],
   "source": [
    "\"\"\"\n",
    "FEniCS tutorial demo program: Nonlinear Poisson equation.\n",
    "\n",
    "  -div(q(u)*grad(u)) = f   in the unit square.\n",
    "                   u = u_D on the boundary.\n",
    "\"\"\"\n",
    "\n",
    "from __future__ import print_function\n",
    "\n",
    "# Warning: from fenics import * will import both `sym` and\n",
    "# `q` from FEniCS. We therefore import FEniCS first and then\n",
    "# overwrite these objects.\n",
    "from fenics import *\n",
    "\n",
    "def q(u):\n",
    "    \"Return nonlinear coefficient\"\n",
    "    return 1 + u**2\n",
    "\n",
    "# Use SymPy to compute f from the manufactured solution u\n",
    "import sympy as sym\n",
    "x, y = sym.symbols('x[0], x[1]')\n",
    "u = 1 + x + 2*y\n",
    "f = - sym.diff(q(u)*sym.diff(u, x), x) - sym.diff(q(u)*sym.diff(u, y), y)\n",
    "f = sym.simplify(f)\n",
    "u_code = sym.printing.ccode(u)\n",
    "f_code = sym.printing.ccode(f)\n",
    "print('u =', u_code)\n",
    "print('f =', f_code)\n",
    "\n",
    "# Create mesh and define function space\n",
    "mesh = UnitSquareMesh(8, 8)\n",
    "V = FunctionSpace(mesh, 'P', 1)\n",
    "\n",
    "# Define boundary condition\n",
    "u_D = Expression(u_code, degree=2)\n",
    "\n",
    "def boundary(x, on_boundary):\n",
    "    return on_boundary\n",
    "\n",
    "bc = DirichletBC(V, u_D, boundary)\n",
    "\n",
    "# Define variational problem\n",
    "u = Function(V)  # Note: not TrialFunction!\n",
    "v = TestFunction(V)\n",
    "f = Expression(f_code, degree=2)\n",
    "F = q(u)*dot(grad(u), grad(v))*dx - f*v*dx\n",
    "\n",
    "# Compute solution\n",
    "solve(F == 0, u, bc)\n",
    "\n",
    "# Plot solution\n",
    "plot(u)\n",
    "\n",
    "import numpy as np\n",
    "# Compute maximum error at vertices. This computation illustrates\n",
    "# an alternative to using compute_vertex_values as in poisson.py.\n",
    "u_e = interpolate(u_D, V)\n",
    "import numpy as np\n",
    "error_max = np.abs(u_e.vector().get_local()- u.vector().get_local()).max()\n",
    "print('error_max = ', error_max)\n",
    "\n"
   ]
  },
  {
   "cell_type": "code",
   "execution_count": null,
   "id": "juvenile-aviation",
   "metadata": {},
   "outputs": [],
   "source": []
  }
 ],
 "metadata": {
  "kernelspec": {
   "display_name": "Python 3",
   "language": "python",
   "name": "python3"
  },
  "language_info": {
   "codemirror_mode": {
    "name": "ipython",
    "version": 3
   },
   "file_extension": ".py",
   "mimetype": "text/x-python",
   "name": "python",
   "nbconvert_exporter": "python",
   "pygments_lexer": "ipython3",
   "version": "3.8.8"
  }
 },
 "nbformat": 4,
 "nbformat_minor": 5
}
